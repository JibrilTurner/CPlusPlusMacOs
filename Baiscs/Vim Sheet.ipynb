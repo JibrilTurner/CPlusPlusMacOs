{
 "cells": [
  {
   "attachments": {},
   "cell_type": "markdown",
   "metadata": {},
   "source": [
    "Vim Commands \n",
    "    y  (Norm)                       | To copy \n",
    "    p  (Norm)                       | To Paste    \n",
    "    dd (Norm)                       | To delete whole line     \n",
    "    :w (Norm)                       | Write(Save)     \n",
    "    :q (Norm)                       | Save And Quit \n",
    "    :q!(Norm)                       | Quit and Dont Save \n",
    "\n",
    "    \n",
    "Commit Through Terminal             \n",
    "    cd                              | Navigate to your project directory\n",
    "    git add .                       | command to stage all changes.\n",
    "    git commit -m \"commit message\"  | command to commit the changes with a commit message.\n",
    "    git push push                   | changes to the remote repository."
   ]
  }
 ],
 "metadata": {
  "language_info": {
   "name": "python"
  },
  "orig_nbformat": 4
 },
 "nbformat": 4,
 "nbformat_minor": 2
}
